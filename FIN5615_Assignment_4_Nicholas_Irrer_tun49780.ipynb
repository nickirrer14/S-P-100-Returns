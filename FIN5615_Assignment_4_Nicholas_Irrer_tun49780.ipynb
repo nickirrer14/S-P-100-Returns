{
 "cells": [
  {
   "cell_type": "markdown",
   "metadata": {
    "deletable": false,
    "editable": false
   },
   "source": [
    "<h2>FIN5615 Project #4\n",
    "    <p class=\"text-primary\">S&P 100 Returns</p>\n",
    "</h2>\n",
    "\n",
    "<div class = \"alert alert-block alert-danger\">\n",
    "    <b>Due Date</b>: October 26th, 2020 11:59PM EST\n",
    "</div>"
   ]
  },
  {
   "cell_type": "markdown",
   "metadata": {
    "deletable": false,
    "editable": false
   },
   "source": [
    "<div class = \"panel panel-success\">\n",
    "    <div class = \"panel-heading\"> \n",
    "    <span style=\"color:black\"><b>Project Introduction</b>\n",
    "    </div>\n",
    "    <div class = \"panel-body\"> \n",
    "    In this project we will examine the historical return performance of the 100 component stocks that make up the S&P 100 index. We will also explore their correlations and identify pairs of stocks that are most highly correlated and relatively uncorrelated.\n",
    "    </div>\n",
    "</div>\n",
    "\n",
    "<div class = \"panel panel-success\">\n",
    "    <div class = \"panel-heading\"> \n",
    "    <span style=\"color:black\"><b>Data</b>\n",
    "    </div>\n",
    "    <div class = \"panel-body\"> \n",
    "    The data for this project includes the historical daily prices, from the stock's inception to June 30th 2020, for each of the 100 component stocks in the S&P 100 index. In the folder \"SP100\", you will find one CSV file for each of the component stocks.\n",
    "    <br><br>For this project, we will be focusing only on the historical closing prices listed under column \"Adj Close\" (adjusted for stock splits). The ticker symbols and company names of each of the stocks are included in a separate file \"_SP100.csv\", which you can also find the folder \"SP100\".\n",
    "    <br><br>Download and place the entire \"SP100\" folder in the \"Data\" folder of your working directory. Remember to read in the datasets starting with the relative file path: <code>'../../Data/SP100'</code>.\n",
    "    </div>\n",
    "</div>\n",
    "\n",
    "<div class = \"panel panel-info\">\n",
    "    <div class = \"panel-heading\"> \n",
    "    <span style=\"color:black\"><b>Instructions</b>\n",
    "    </div>\n",
    "    <div class = \"panel-body\"> \n",
    "    Please code you solutions directly in this Notebook under each task in the cells provided below. Include all code used to produce your results, and support your answers with textual explanations if neccessary. You may feel free to add additional Code and/or Markdown cells as needed. Code must be written using <b>Python 3</b>.\n",
    "    <br><br>Please order the cells in your Notebook in the order in which they are intended to run! It is expected that your Notebook is able to run in sequence from start to finish without any errors (before submitting check by: <code>Kernel > Restart & Run All</code>).\n",
    "    <br><br>Once ready, please submit your assignment as an <b>.ipynb file</b> (<code>File > Download as > Notebook</code>). You must name your files in the following format: <b><code>FIN5615_Assignmnet_1_Richard_Lee_tuc12345.ipynb</code></b>.\n",
    "    </div>\n",
    "</div>\n",
    "\n",
    "---\n",
    "<div class = \"alert alert-block alert-warning\">\n",
    "    <b>Note</b>: Add any additional libraries that you plan on using to the import statements in the code block below.\n",
    "</div>"
   ]
  },
  {
   "cell_type": "code",
   "execution_count": 19,
   "metadata": {},
   "outputs": [],
   "source": [
    "import numpy as np\n",
    "import matplotlib.pyplot as plt\n",
    "import pandas as pd"
   ]
  },
  {
   "cell_type": "markdown",
   "metadata": {
    "deletable": false,
    "editable": false
   },
   "source": [
    "<div class = \"panel panel-primary\">\n",
    "    <div class = \"panel-heading\"> \n",
    "    <span style=\"color:white\"><b>Task 1</b>\n",
    "    </div>\n",
    "    <div class = \"panel-body\"> \n",
    "    Read in each of the CSV files for the S&P 100 stocks in a dictionary for us to easily reference and manipulate the data.\n",
    "    <br>\n",
    "    <ul>\n",
    "        <li>Start by reading in the companies and their stock ticker symbols into a dataframe called <code>sp100</code>, with the \"Ticker\" column as the index.</li>\n",
    "        <li>Next, create a dictionary called <code>stock_frames</code>. This will serve as a container to store all the historical price data for the component stocks.</li>\n",
    "        <li>Read in the historical price data for all stocks in <code>sp100</code> as dataframes and store them in <code>stock_frames</code> with the stock's ticker as the key. </li>\n",
    "        <li>For this project, we will only need the columns \"Date\" and \"Adj Close\" so limit to just these two columns when reading in the CSV file, with the \"Date\" column as the dataframe's index. </li>\n",
    "    </ul>\n",
    "    <p style=\"text-align:right;\">[10pts]</p>\n",
    "    </div>\n",
    "</div>\n",
    "\n",
    "<div class = \"alert alert-block alert-info\">\n",
    "    <b>Hint</b>: When reading in the CSV files, you may want to use a loop to iterate the index of *sp100* that was created earlier.\n",
    "</div>"
   ]
  },
  {
   "cell_type": "code",
   "execution_count": 20,
   "metadata": {},
   "outputs": [
    {
     "name": "stdout",
     "output_type": "stream",
     "text": [
      "   Ticker\n",
      "0    AAPL\n",
      "1    ABBV\n",
      "2     ABT\n",
      "3     ACN\n",
      "4    ADBE\n",
      "..    ...\n",
      "94     VZ\n",
      "95    WBA\n",
      "96    WFC\n",
      "97    WMT\n",
      "98    XOM\n",
      "\n",
      "[99 rows x 1 columns]\n"
     ]
    }
   ],
   "source": [
    "sp100 = pd.read_csv('/Users/nicholasirrrer/Desktop/Skool/SP100/_SP100.csv', usecols = ['Ticker'])\n",
    "path = '/Users/nicholasirrrer/Desktop/Skool/SP100'\n",
    "\n",
    "print(sp100)\n",
    "\n",
    "#pulled the data directly from my desktop as there was issues when trying to pull directly from jupyter"
   ]
  },
  {
   "cell_type": "code",
   "execution_count": 21,
   "metadata": {},
   "outputs": [],
   "source": [
    "stock_frames = {}\n",
    "for ticker in sp100.loc[:,'Ticker'] :\n",
    "    stock_frames[ticker] = pd.read_csv(f'{path}/{ticker}.csv', usecols =['Date','Adj Close'], index_col = ['Date'])"
   ]
  },
  {
   "cell_type": "markdown",
   "metadata": {
    "deletable": false,
    "editable": false
   },
   "source": [
    "<div class = \"panel panel-primary\">\n",
    "    <div class = \"panel-heading\"> \n",
    "    <span style=\"color:white\"><b>Task 2</b>\n",
    "    </div>\n",
    "    <div class = \"panel-body\"> \n",
    "    An issue with our data is that component stocks of the S&P 100 do not all have the same number of historical observations.\n",
    "    <br><br>To help remedy this, iterate through the <code>stock_frames</code> dictionary and for each dataframe, limit the historical price observations to the period ranging from 7/6/2015 to 6/30/2020, which spans 1257 trading days. \n",
    "    <p style=\"text-align:right;\">[5pts]</p>\n",
    "    </div>\n",
    "</div>"
   ]
  },
  {
   "cell_type": "code",
   "execution_count": 22,
   "metadata": {},
   "outputs": [],
   "source": [
    "stock_prices = pd.concat(stock_frames.values(), axis = 1, join = 'inner')\n",
    "stock_prices.columns = sp100['Ticker']"
   ]
  },
  {
   "cell_type": "code",
   "execution_count": 23,
   "metadata": {},
   "outputs": [
    {
     "name": "stdout",
     "output_type": "stream",
     "text": [
      "Ticker          AAPL       ABBV        ABT         ACN        ADBE        AIG  \\\n",
      "Date                                                                            \n",
      "20150706  116.122704  54.396431  44.941250   89.012009   80.500000  54.500534   \n",
      "20150707  115.837006  54.667538  45.365906   90.237366   80.589996  54.817768   \n",
      "20150708  112.961594  53.949913  44.498520   89.268074   79.989998  53.892525   \n",
      "20150709  110.657570  54.197105  44.444317   89.386940   80.470001  54.421230   \n",
      "20150710  113.615921  55.201782  45.112915   90.328812   80.589996  55.179031   \n",
      "...              ...        ...        ...         ...         ...        ...   \n",
      "20200624  360.059998  95.139999  87.300003  201.839996  431.679993  30.299999   \n",
      "20200625  364.839996  96.989998  89.620003  217.320007  436.950012  31.260000   \n",
      "20200626  353.630005  96.129997  88.709999  212.470001  426.920013  29.709999   \n",
      "20200629  361.779999  96.440002  89.010002  212.720001  424.200012  30.680000   \n",
      "20200630  364.799988  98.180000  91.430000  214.720001  435.309998  31.180000   \n",
      "\n",
      "Ticker          ALL        AMGN         AMT         AMZN  ...         UNH  \\\n",
      "Date                                                      ...               \n",
      "20150706  58.867424  134.846283   86.097084   436.040009  ...  112.806862   \n",
      "20150707  59.712139  135.623062   86.686302   436.720001  ...  111.458641   \n",
      "20150708  58.967331  132.934891   85.643852   429.700012  ...  109.685631   \n",
      "20150709  59.412411  132.062073   85.562263   434.390015  ...  110.202759   \n",
      "20150710  60.120884  134.497192   86.495934   443.510010  ...  112.797638   \n",
      "...             ...         ...         ...          ...  ...         ...   \n",
      "20200624  92.949997  232.509995  254.179993  2734.399902  ...  289.179993   \n",
      "20200625  95.830002  235.110001  254.360001  2754.580078  ...  296.220001   \n",
      "20200626  94.580002  232.839996  246.479996  2692.870117  ...  286.880005   \n",
      "20200629  95.440002  231.559998  253.800003  2680.379883  ...  289.760010   \n",
      "20200630  96.989998  235.860001  258.540009  2758.820068  ...  294.950012   \n",
      "\n",
      "Ticker           UNP         UPS        USB           V         VZ        WBA  \\\n",
      "Date                                                                            \n",
      "20150706   85.749390   82.283913  37.943161   65.693474  37.562855  75.650414   \n",
      "20150707   87.085892   82.998978  37.830032   65.355919  37.730549  77.298264   \n",
      "20150708   85.401917   81.287910  37.133812   64.352989  37.633602  76.111099   \n",
      "20150709   85.758308   81.509254  37.386200   64.661598  37.375053  79.335915   \n",
      "20150710   87.157173   82.539276  37.803921   65.982765  37.972931  82.489861   \n",
      "...              ...         ...        ...         ...        ...        ...   \n",
      "20200624  165.550003  109.500000  36.440567  191.410004  53.930000  41.169998   \n",
      "20200625  167.020004  110.519997  37.606823  193.979996  54.279999  42.040001   \n",
      "20200626  162.639999  107.320000  35.640003  189.270004  53.160000  41.169998   \n",
      "20200629  165.509995  109.480003  36.349998  191.380005  54.689999  42.320000   \n",
      "20200630  169.070007  111.180000  36.820000  193.169998  55.130001  42.389999   \n",
      "\n",
      "Ticker          WFC         WMT        XOM  \n",
      "Date                                        \n",
      "20150706  47.528847   63.890312  66.836525  \n",
      "20150707  47.368855   65.000229  67.111877  \n",
      "20150708  46.526745   64.357178  66.383011  \n",
      "20150709  46.737270   64.110527  66.083359  \n",
      "20150710  47.225693   64.410027  66.585472  \n",
      "...             ...         ...        ...  \n",
      "20200624  26.120001  120.300003  44.500000  \n",
      "20200625  27.370001  119.709999  45.169998  \n",
      "20200626  25.340000  118.320000  43.619999  \n",
      "20200629  25.700001  119.059998  44.320000  \n",
      "20200630  25.600000  119.779999  44.720001  \n",
      "\n",
      "[1257 rows x 99 columns]\n"
     ]
    }
   ],
   "source": [
    "print(stock_prices)"
   ]
  },
  {
   "cell_type": "markdown",
   "metadata": {
    "deletable": false,
    "editable": false
   },
   "source": [
    "<div class = \"panel panel-primary\">\n",
    "    <div class = \"panel-heading\"> \n",
    "    <span style=\"color:white\"><b>Task 3</b>\n",
    "    </div>\n",
    "    <div class = \"panel-body\"> \n",
    "    Reorganize the data by creating an 2-d array called <code>stock_prices</code> to store each stock's historical prices, where axis-0 of the array (rows) is each day of the historical period and axis-1 of the array (columns) are the S&P 100 stocks. \n",
    "    <br><br>Confirm that at the end of your code, the shape of <code>stock_prices</code> should be <code>(1257, 99)</code>. \n",
    "    <p style=\"text-align:right;\">[10pts]</p>\n",
    "    </div>\n",
    "</div>"
   ]
  },
  {
   "cell_type": "code",
   "execution_count": 24,
   "metadata": {},
   "outputs": [
    {
     "name": "stdout",
     "output_type": "stream",
     "text": [
      "(1257, 99)\n"
     ]
    }
   ],
   "source": [
    "stock_prices_arr = stock_prices.values\n",
    "print(stock_prices_arr.shape)\n",
    "\n",
    "#_# checked"
   ]
  },
  {
   "cell_type": "markdown",
   "metadata": {
    "deletable": false,
    "editable": false
   },
   "source": [
    "<div class = \"panel panel-primary\">\n",
    "    <div class = \"panel-heading\"> \n",
    "    <span style=\"color:white\"><b>Task 4</b>\n",
    "    </div>\n",
    "    <div class = \"panel-body\"> \n",
    "        Using the array <code>stock_prices</code>, calculate the compounding daily returns (expressed as a percentage) and store them in another array called <code>stock_returns</code>. Recall that:\n",
    "    <br><br>\n",
    "    $$r_t = \\ln\\left(\\frac{P_t}{P_{t-1}}\\right) * 100$$\n",
    "    <br>Confirm that after the calculation, the shape of <code>stock_returns</code> should be <code>(1256, 99)</code>. \n",
    "    <p style=\"text-align:right;\">[10pts]</p>\n",
    "    </div>\n",
    "</div>"
   ]
  },
  {
   "cell_type": "code",
   "execution_count": 25,
   "metadata": {},
   "outputs": [
    {
     "name": "stdout",
     "output_type": "stream",
     "text": [
      "(1256, 99)\n"
     ]
    }
   ],
   "source": [
    "stock_returns = np.log(1. + stock_prices.pct_change()).dropna()\n",
    "print(stock_returns.shape)\n",
    "\n",
    "#_# checked"
   ]
  },
  {
   "cell_type": "markdown",
   "metadata": {
    "deletable": false,
    "editable": false
   },
   "source": [
    "<div class = \"panel panel-primary\">\n",
    "    <div class = \"panel-heading\"> \n",
    "    <span style=\"color:white\"><b>Task 5</b>\n",
    "    </div>\n",
    "    <div class = \"panel-body\"> \n",
    "    Using <code>stock_returns</code>, calculate the average observed daily returns across the S&P 100 stocks for each day in our historical period. Store this result in another array called <code>daily_returns</code>. Check that the shape of <code>daily_returns</code> is a 1-d array with length 1256.\n",
    "    <br><br>Plot <code>daily_returns</code> in a line plot. Remember to provide a title, axis labels, and adjust the figure size as neccessary. Comment on any noteworthy observations from the plot, and any possible connections to real-world events.\n",
    "    <p style=\"text-align:right;\">[10pts]</p>\n",
    "    </div>\n",
    "</div>"
   ]
  },
  {
   "cell_type": "code",
   "execution_count": 26,
   "metadata": {},
   "outputs": [
    {
     "name": "stdout",
     "output_type": "stream",
     "text": [
      "Date\n",
      "20150707    0.007087\n",
      "20150708   -0.015601\n",
      "20150709    0.002409\n",
      "20150710    0.012164\n",
      "20150713    0.011373\n",
      "              ...   \n",
      "20200624   -0.029244\n",
      "20200625    0.012108\n",
      "20200626   -0.027176\n",
      "20200629    0.017780\n",
      "20200630    0.012888\n",
      "Length: 1256, dtype: float64\n"
     ]
    }
   ],
   "source": [
    "daily_returns= stock_returns.mean(axis=1)\n",
    "print(daily_returns)"
   ]
  },
  {
   "cell_type": "code",
   "execution_count": 27,
   "metadata": {},
   "outputs": [
    {
     "name": "stdout",
     "output_type": "stream",
     "text": [
      "(1256,)\n"
     ]
    }
   ],
   "source": [
    "print(daily_returns.shape)\n",
    "\n",
    "#_# checked"
   ]
  },
  {
   "cell_type": "code",
   "execution_count": 28,
   "metadata": {
    "scrolled": false
   },
   "outputs": [
    {
     "data": {
      "image/png": "[encoded data removed]",
      "text/plain": [
       "<Figure size 432x288 with 1 Axes>"
      ]
     },
     "metadata": {
      "needs_background": "light"
     },
     "output_type": "display_data"
    }
   ],
   "source": [
    "plt.plot(daily_returns)\n",
    "plt.title('Daily Returns of stocks')\n",
    "plt.legend(['Average Return'])\n",
    "plt.xlabel('Time')\n",
    "plt.ylabel('Returns')\n",
    "plt.show()"
   ]
  },
  {
   "cell_type": "code",
   "execution_count": 29,
   "metadata": {},
   "outputs": [],
   "source": [
    "#In the beginning of the year, stock returns fluctuate the most as shown in the graph. This is generally due to excss cash being put into the stock market after tax season."
   ]
  },
  {
   "cell_type": "markdown",
   "metadata": {
    "deletable": false,
    "editable": false
   },
   "source": [
    "<div class = \"panel panel-primary\">\n",
    "    <div class = \"panel-heading\"> \n",
    "    <span style=\"color:white\"><b>Task 5</b>\n",
    "    </div>\n",
    "    <div class = \"panel-body\"> \n",
    "    Using <code>stock_returns</code>, calculate the average daily returns over the historical period for the S&P 100 stocks. Store this result in another array called <code>avg_returns</code>. Check that the shape of <code>avg_returns</code> is a 1-d array with length 99.\n",
    "    <br><br>Plot the average returns in <code>avg_returns</code> on a bar plot, sorted by highest to lowest returns. Provide an appropriate title, axis labels, and adjust the figure size for the plot as needed.\n",
    "    <br><br>Which stock experienced the highest average daily returns over the historical period? Which stock had the lowest? Provide some comments on whether those observations make sense and why.\n",
    "    <p style=\"text-align:right;\">[10pts]</p>\n",
    "    </div>\n",
    "</div>\n",
    "<div class = \"alert alert-block alert-info\">\n",
    "    <b>Hint</b>: The matplotlib function <b>plt.barh<b> gives a bar plot oriented horizontally.\n",
    "</div>"
   ]
  },
  {
   "cell_type": "code",
   "execution_count": 30,
   "metadata": {},
   "outputs": [
    {
     "name": "stdout",
     "output_type": "stream",
     "text": [
      "Ticker\n",
      "AAPL    0.000911\n",
      "ABBV    0.000470\n",
      "ABT     0.000565\n",
      "ACN     0.000701\n",
      "ADBE    0.001344\n",
      "          ...   \n",
      "VZ      0.000305\n",
      "WBA    -0.000461\n",
      "WFC    -0.000493\n",
      "WMT     0.000500\n",
      "XOM    -0.000320\n",
      "Length: 99, dtype: float64\n"
     ]
    }
   ],
   "source": [
    "average_returns = stock_returns. mean (axis = 0)\n",
    "print(average_returns)"
   ]
  },
  {
   "cell_type": "code",
   "execution_count": 31,
   "metadata": {
    "scrolled": false
   },
   "outputs": [
    {
     "name": "stdout",
     "output_type": "stream",
     "text": [
      "(99,)\n"
     ]
    }
   ],
   "source": [
    "print(average_returns.shape)"
   ]
  },
  {
   "cell_type": "code",
   "execution_count": 32,
   "metadata": {},
   "outputs": [
    {
     "data": {
      "image/png": "[encoded data removed]",
      "text/plain": [
       "<Figure size 432x288 with 1 Axes>"
      ]
     },
     "metadata": {
      "needs_background": "light"
     },
     "output_type": "display_data"
    }
   ],
   "source": [
    "plt.title('Average Stock Return')\n",
    "plt.legend(['Average Return'])\n",
    "plt.xlabel('Time')\n",
    "plt.ylabel('Return PCT')\n",
    "plt.bar(range(99),average_returns.sort_values())\n",
    "plt.show()"
   ]
  },
  {
   "cell_type": "code",
   "execution_count": 33,
   "metadata": {
    "scrolled": true
   },
   "outputs": [
    {
     "name": "stdout",
     "output_type": "stream",
     "text": [
      "71\n",
      "-\n",
      "Ticker\n",
      "NVDA    0.002361\n",
      "dtype: float64\n"
     ]
    }
   ],
   "source": [
    "print(np.argmax(average_returns))\n",
    "print('-')\n",
    "print(average_returns.iloc[[71]])"
   ]
  },
  {
   "cell_type": "code",
   "execution_count": 34,
   "metadata": {},
   "outputs": [
    {
     "name": "stdout",
     "output_type": "stream",
     "text": [
      "82\n",
      "-\n",
      "Ticker\n",
      "SLB   -0.001058\n",
      "dtype: float64\n"
     ]
    }
   ],
   "source": [
    "print(np.argmin(average_returns))\n",
    "print('-')\n",
    "print(average_returns.iloc[[82]])"
   ]
  },
  {
   "cell_type": "code",
   "execution_count": 35,
   "metadata": {},
   "outputs": [],
   "source": [
    "#_# Apple had the highest stock return, and XOM had the lowest return in. This makes sense as Apple stock has been continuing to grow for quite a long time."
   ]
  },
  {
   "cell_type": "markdown",
   "metadata": {
    "deletable": false,
    "editable": false
   },
   "source": [
    "<div class = \"panel panel-primary\">\n",
    "    <div class = \"panel-heading\"> \n",
    "    <span style=\"color:white\"><b>Task 7</b>\n",
    "    </div>\n",
    "    <div class = \"panel-body\"> \n",
    "    Using stock_returns, calculate the standard deviation of daily returns over the historical period for the S&P 100 stocks. Store this result in another array called <code>std_returns</code>. Check that the shape of <code>std_returns</code> is a 1-d array with length 99.\n",
    "    <br><br>Which stock experienced the highest volatility over the historical period? Which stock had the lowest? Provide some comments on whether those observations make sense and why.\n",
    "    <p style=\"text-align:right;\">[5pts]</p>\n",
    "    </div>\n",
    "</div>"
   ]
  },
  {
   "cell_type": "code",
   "execution_count": 36,
   "metadata": {},
   "outputs": [
    {
     "ename": "NameError",
     "evalue": "name 'standard_returns' is not defined",
     "output_type": "error",
     "traceback": [
      "\u001b[0;31m---------------------------------------------------------------------------\u001b[0m",
      "\u001b[0;31mNameError\u001b[0m                                 Traceback (most recent call last)",
      "\u001b[0;32m<ipython-input-36-0c2981e1e47a>\u001b[0m in \u001b[0;36m<module>\u001b[0;34m\u001b[0m\n\u001b[1;32m      1\u001b[0m \u001b[0mstdev_returns\u001b[0m \u001b[0;34m=\u001b[0m \u001b[0mnp\u001b[0m\u001b[0;34m.\u001b[0m\u001b[0mstd\u001b[0m\u001b[0;34m(\u001b[0m\u001b[0mstock_returns\u001b[0m\u001b[0;34m)\u001b[0m\u001b[0;34m\u001b[0m\u001b[0;34m\u001b[0m\u001b[0m\n\u001b[0;32m----> 2\u001b[0;31m \u001b[0mprint\u001b[0m\u001b[0;34m(\u001b[0m\u001b[0mstandard_returns\u001b[0m\u001b[0;34m.\u001b[0m\u001b[0mshape\u001b[0m\u001b[0;34m)\u001b[0m\u001b[0;34m\u001b[0m\u001b[0;34m\u001b[0m\u001b[0m\n\u001b[0m",
      "\u001b[0;31mNameError\u001b[0m: name 'standard_returns' is not defined"
     ]
    }
   ],
   "source": [
    "stdev_returns = np.std(stock_returns)\n",
    "print(standard_returns.shape)"
   ]
  },
  {
   "cell_type": "code",
   "execution_count": 37,
   "metadata": {},
   "outputs": [
    {
     "name": "stdout",
     "output_type": "stream",
     "text": [
      "94\n",
      "-\n",
      "Ticker\n",
      "VZ    0.012234\n",
      "dtype: float64\n"
     ]
    }
   ],
   "source": [
    "print(np.argmin(stdev_returns))\n",
    "print('-')\n",
    "print(stdev_returns.iloc[[94]])"
   ]
  },
  {
   "cell_type": "code",
   "execution_count": 38,
   "metadata": {},
   "outputs": [
    {
     "name": "stdout",
     "output_type": "stream",
     "text": [
      "73\n",
      "-\n",
      "Ticker\n",
      "OXY    0.033884\n",
      "dtype: float64\n"
     ]
    }
   ],
   "source": [
    "print(np.argmax(stdev_returns))\n",
    "print('-')\n",
    "print(stdev_returns.iloc[[73]])"
   ]
  },
  {
   "cell_type": "code",
   "execution_count": 39,
   "metadata": {},
   "outputs": [],
   "source": [
    "#_# The highest volatility stock was VZ and the lowest volatility stock was OXY. These observations are likely due to the fluctuation in recent years of tech stocks."
   ]
  },
  {
   "cell_type": "markdown",
   "metadata": {
    "deletable": false,
    "editable": false
   },
   "source": [
    "<div class = \"panel panel-primary\">\n",
    "    <div class = \"panel-heading\"> \n",
    "    <span style=\"color:white\"><b>Task 8</b>\n",
    "    </div>\n",
    "    <div class = \"panel-body\"> \n",
    "    Plot a scatter plot of the standard deviation of returns on the horizontal axis (X) and the average returns on the vertical axis (Y). Provide the plot with a title and axis labels.\n",
    "    <br><br>What can we conclude from the plot? Are there any noteworthy patterns or observations?\n",
    "    <p style=\"text-align:right;\">[5pts]</p>\n",
    "    </div>\n",
    "</div>"
   ]
  },
  {
   "cell_type": "code",
   "execution_count": 40,
   "metadata": {
    "scrolled": true
   },
   "outputs": [
    {
     "data": {
      "image/png": "[encoded data removed]",
      "text/plain": [
       "<Figure size 432x288 with 1 Axes>"
      ]
     },
     "metadata": {
      "needs_background": "light"
     },
     "output_type": "display_data"
    },
    {
     "data": {
      "text/plain": [
       "<Figure size 7200x3600 with 0 Axes>"
      ]
     },
     "metadata": {},
     "output_type": "display_data"
    }
   ],
   "source": [
    "plt.plot(stdev_returns, average_returns, 'o', color='blue')\n",
    "plt.title('Return Relationship')\n",
    "plt.xlabel('Stdev of Return')\n",
    "plt.ylabel('Average Return')\n",
    "plt.figure(figsize=(100,50))\n",
    "plt.show()"
   ]
  },
  {
   "cell_type": "code",
   "execution_count": 41,
   "metadata": {},
   "outputs": [],
   "source": [
    "#_# there is a clear downward correlation in the stdev and average returns however this correlation is not definitive. "
   ]
  },
  {
   "cell_type": "markdown",
   "metadata": {
    "deletable": false,
    "editable": false
   },
   "source": [
    "<div class = \"panel panel-primary\">\n",
    "    <div class = \"panel-heading\"> \n",
    "    <span style=\"color:white\"><b>Task 9</b>\n",
    "    </div>\n",
    "    <div class = \"panel-body\"> \n",
    "    Use the arrays <code>avg_returns</code> and <code>std_returns</code> to calculate the historical sharpe ratio over the historical period. Assume an annual risk-free rate of 1%. Store this result in another array called <code>sharpe_ratio</code>.\n",
    "    <p style=\"text-align:right;\">[5pts]</p>\n",
    "    </div>\n",
    "</div>"
   ]
  },
  {
   "cell_type": "code",
   "execution_count": 42,
   "metadata": {
    "scrolled": true
   },
   "outputs": [
    {
     "name": "stdout",
     "output_type": "stream",
     "text": [
      "(99,)\n",
      "(99,)\n"
     ]
    }
   ],
   "source": [
    "print(average_returns.shape)\n",
    "print(stdev_returns.shape)"
   ]
  },
  {
   "cell_type": "code",
   "execution_count": 43,
   "metadata": {},
   "outputs": [
    {
     "name": "stdout",
     "output_type": "stream",
     "text": [
      "(99,)\n"
     ]
    }
   ],
   "source": [
    "sharpe_ratio = (average_returns-.01)/stdev_returns\n",
    "print(sharpe_ratio.shape)"
   ]
  },
  {
   "cell_type": "markdown",
   "metadata": {
    "deletable": false,
    "editable": false
   },
   "source": [
    "<div class = \"panel panel-primary\">\n",
    "    <div class = \"panel-heading\"> \n",
    "    <span style=\"color:white\"><b>Task 10</b>\n",
    "    </div>\n",
    "    <div class = \"panel-body\"> \n",
    "    Calculate the correlation matrix for daily returns of the S&P 100 component stocks in <code>stock_returns</code>. Verify that the shape of the calculated matrix is <code>(99, 99)</code>. \n",
    "    <br><br>Store the correlation matrix in a dataframe called <code>corr_returns</code>, and set the stock tickers as both the index and columns of the dataframe. \n",
    "    <p style=\"text-align:right;\">[10pts]</p>\n",
    "    </div>\n",
    "</div>"
   ]
  },
  {
   "cell_type": "code",
   "execution_count": 44,
   "metadata": {},
   "outputs": [
    {
     "name": "stdout",
     "output_type": "stream",
     "text": [
      "(99, 99)\n"
     ]
    }
   ],
   "source": [
    "corr_returns = stock_returns.corr()\n",
    "print(corr_returns.shape)"
   ]
  },
  {
   "cell_type": "markdown",
   "metadata": {
    "deletable": false,
    "editable": false
   },
   "source": [
    "<div class = \"panel panel-primary\">\n",
    "    <div class = \"panel-heading\"> \n",
    "    <span style=\"color:white\"><b>Task 11</b>\n",
    "    </div>\n",
    "    <div class = \"panel-body\"> \n",
    "    A heatmap is a graphical representation of data that uses a system of color-coding to represent the relative magnitude of a set of data. We can create heatmaps using another external library called <b>seaborn</b>, and using the code snippet below\n",
    "    <br>\n",
    "    <code>\n",
    "    import seaborn as sns\n",
    "    sns.heatmap(corr_returns)\n",
    "    plt.show()\n",
    "    </code>\n",
    "    <br>Plot the heatmap for <code>corr_returns</code>. Rremember to provide a title to the plot and adjust the figure size as neccessary.\n",
    "    <p style=\"text-align:right;\">[5pts]</p>\n",
    "    </div>\n",
    "</div>"
   ]
  },
  {
   "cell_type": "code",
   "execution_count": 45,
   "metadata": {
    "scrolled": false
   },
   "outputs": [
    {
     "data": {
      "image/png": "[encoded data removed]",
      "text/plain": [
       "<Figure size 432x288 with 2 Axes>"
      ]
     },
     "metadata": {
      "needs_background": "light"
     },
     "output_type": "display_data"
    }
   ],
   "source": [
    "import seaborn as sns\n",
    "sns.heatmap(corr_returns)\n",
    "plt.show()"
   ]
  },
  {
   "cell_type": "markdown",
   "metadata": {
    "deletable": false,
    "editable": false
   },
   "source": [
    "<div class = \"panel panel-primary\">\n",
    "    <div class = \"panel-heading\"> \n",
    "    <span style=\"color:white\"><b>Task 12</b>\n",
    "    </div>\n",
    "    <div class = \"panel-body\"> \n",
    "    From the correlation matrix <code>corr_returns</code>, identify the pair of stocks that are <i>most</i> positively correlated and the pair that are <i>most</i> uncorrelated. \n",
    "    <br><br>Comment on whether it is reasonable for the identified pairs of stocks to be positively correlated or uncorrelated, and propose a reason as to why for each of the two pairs of stocks.\n",
    "    <p style=\"text-align:right;\">[15pts]</p>\n",
    "    </div>\n",
    "</div>"
   ]
  },
  {
   "cell_type": "code",
   "execution_count": 46,
   "metadata": {},
   "outputs": [
    {
     "name": "stdout",
     "output_type": "stream",
     "text": [
      "0.9287737769548196\n",
      "0.10660500968647431\n",
      "-\n",
      "Ticker  Ticker\n",
      "DUK     NFLX      0.106605\n",
      "NFLX    DUK       0.106605\n",
      "WMT     OXY       0.115948\n",
      "OXY     WMT       0.115948\n",
      "GILD    SPG       0.124957\n",
      "                    ...   \n",
      "NFLX    NFLX      1.000000\n",
      "NKE     NKE       1.000000\n",
      "NVDA    NVDA      1.000000\n",
      "IBM     IBM       1.000000\n",
      "XOM     XOM       1.000000\n",
      "Length: 9801, dtype: float64\n"
     ]
    }
   ],
   "source": [
    "unstacked = corr_returns.unstack()\n",
    "max_corr = unstacked.sort_values()\n",
    "\n",
    "high_correlation = max_corr[-100]\n",
    "low_correlation = max_corr[0]\n",
    "\n",
    "print(high_correlation)\n",
    "print(low_correlation)\n",
    "print('-')\n",
    "print(max_corr)"
   ]
  },
  {
   "cell_type": "code",
   "execution_count": null,
   "metadata": {},
   "outputs": [],
   "source": [
    "#_# It is reasonable for the pairs to be positively correlated. The SP100 has been on an upward trend recently"
   ]
  }
 ],
 "metadata": {
  "kernelspec": {
   "display_name": "Python 3",
   "language": "python",
   "name": "python3"
  },
  "language_info": {
   "codemirror_mode": {
    "name": "ipython",
    "version": 3
   },
   "file_extension": ".py",
   "mimetype": "text/x-python",
   "name": "python",
   "nbconvert_exporter": "python",
   "pygments_lexer": "ipython3",
   "version": "3.8.3"
  }
 },
 "nbformat": 4,
 "nbformat_minor": 2
}
